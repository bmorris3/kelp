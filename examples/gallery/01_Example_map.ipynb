{
 "cells": [
  {
   "cell_type": "markdown",
   "id": "verbal-correspondence",
   "metadata": {},
   "source": [
    "# Interactive map"
   ]
  },
  {
   "cell_type": "markdown",
   "id": "binding-package",
   "metadata": {},
   "source": [
    "In the map below, we plot the temperature distribution on the planetary surface for a KELT-9-like planet. The two sliders control the power in the spherical harmonic $C_{11}$ coefficient and the dimensionless drag frequency $\\omega_\\mathrm{drag}$. Note that the \"chevron\" shape temperature field becomes stronger when $\\omega_\\mathrm{drag}$ is small, and the day-night contrast is maximized for larger $C_{11}$."
   ]
  },
  {
   "cell_type": "code",
   "execution_count": null,
   "id": "thermal-turkey",
   "metadata": {},
   "outputs": [],
   "source": [
    "import geoviews as gv\n",
    "import xarray as xr\n",
    "from kelp import Model, Planet, Filter\n",
    "import numpy as np\n",
    "\n",
    "gv.extension('bokeh')\n",
    "\n",
    "n_phi = 50\n",
    "n_theta = 15\n",
    "omega_range = np.linspace(0.5, 5.5, 10)\n",
    "c11_range = np.linspace(0.1, 0.3, 5)\n",
    "temperature_maps = np.zeros((n_phi, n_theta, len(omega_range), len(c11_range)),\n",
    "                            dtype=int)\n",
    "p = Planet.from_name('KELT-9')\n",
    "filt = Filter.from_name(\"CHEOPS\")\n",
    "for i, omega in enumerate(omega_range):\n",
    "    for j, c11 in enumerate(c11_range):\n",
    "        m = Model(0, 0.575, omega, 0, [[0], [0, c11, 0]], 1, planet=p,\n",
    "                  filt=filt)\n",
    "        T, theta, phi = m.temperature_map(n_theta, n_phi)\n",
    "        temperature_maps[..., i, j] = T.T\n",
    "condition = (phi <= 2 * np.pi) & (phi >= 0)\n",
    "\n",
    "arr = xr.DataArray(\n",
    "    temperature_maps[condition, ...],\n",
    "    coords=[np.degrees(phi)[condition], np.degrees(theta) - 90, omega_range,\n",
    "            c11_range],\n",
    "    dims=['longitude', 'latitude', 'omega', 'C_11'],\n",
    "    name='surface_temperature'\n",
    ")\n",
    "\n",
    "dataset = gv.Dataset(arr, ['longitude', 'latitude', 'omega', 'C_11'],\n",
    "                     'surface_temperature')\n",
    "images = dataset.to(gv.Image, ['longitude', 'latitude'], 'surface_temperature',\n",
    "                    ['omega', 'C_11'])\n",
    "images.opts(cmap='viridis', colorbar=True, width=600, height=400)"
   ]
  },
  {
   "cell_type": "code",
   "execution_count": null,
   "id": "noble-house",
   "metadata": {},
   "outputs": [],
   "source": []
  }
 ],
 "metadata": {
  "kernelspec": {
   "display_name": "Python 3",
   "language": "python",
   "name": "python3"
  },
  "language_info": {
   "codemirror_mode": {
    "name": "ipython",
    "version": 3
   },
   "file_extension": ".py",
   "mimetype": "text/x-python",
   "name": "python",
   "nbconvert_exporter": "python",
   "pygments_lexer": "ipython3",
   "version": "3.7.10"
  }
 },
 "nbformat": 4,
 "nbformat_minor": 5
}
